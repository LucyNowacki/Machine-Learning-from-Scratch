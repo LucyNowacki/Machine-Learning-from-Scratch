{
 "cells": [
  {
   "cell_type": "markdown",
   "id": "ff39b57d",
   "metadata": {},
   "source": [
    "#### The aim of this notebook is to compare ordinary regression using automatic differentiation, analytical solution and gradient descent (which uses automatic differentiation in steps). Note that\n",
    "- Gradient descent is an optimization algorithm for minimizing the loss of a predictive model with regard to a training dataset.\n",
    "- Back-propagation is an automatic differentiation algorithm for calculating gradients for the weights in a neural network graph structure.\n",
    "- Gradient descent and the back-propagation of error algorithms together are used to train neural network models.\n",
    "\n",
    "## 1. Linear Regression in Pytorch\n",
    "1. First load the *height_weight_genders.csv* dataset with the load data file from\n",
    "helpers.py and transform the numpy arrays to torch tensors\n",
    "2. Standardise the height data\n",
    "3. Implement a simple two-parameter linear regression model of the form\n",
    "$$\\hat{w}= arg \\underset{w \\in \\mathbb{R}}{\\min } \\left\\{ \\frac{1}{2s} \\|Xw-y \\|^2 \\right\\}$$\n",
    "for\n",
    "$$X=\\left(\n",
    "\\begin{array}{cc}\n",
    " 1 & x_1 \\\\\n",
    " 1 & x_2 \\\\\n",
    " \\vdots  & \\vdots  \\\\\n",
    " 1 & x_s \\\\\n",
    "\\end{array}\n",
    "\\right)\\,\\,\\,\\,\\,\\, and \\,\\,\\,\\,\\,\\, y=\\left(\n",
    "\\begin{array}{c}\n",
    " y_1 \\\\\n",
    " y_2 \\\\\n",
    " \\vdots  \\\\\n",
    " y_s \\\\\n",
    "\\end{array}\n",
    "\\right)$$\n",
    "$\\{x_i\\}_{i=1}^s$ are the standardised height-samples and $\\{y_i\\}_{i=1}^s$ the weight-samples of  the dataset.\n",
    "This optimisatioin problem has the analatycial soulution via $\\,\\,X^T X\\hat{w}=X^Ty$"
   ]
  },
  {
   "cell_type": "code",
   "execution_count": 22,
   "id": "cfa6f1a3",
   "metadata": {},
   "outputs": [
    {
     "name": "stdout",
     "output_type": "stream",
     "text": [
      "The autoreload extension is already loaded. To reload it, use:\n",
      "  %reload_ext autoreload\n"
     ]
    }
   ],
   "source": [
    "%matplotlib inline\n",
    "import torch\n",
    "import torch.nn as nn\n",
    "import torch.optim as optim\n",
    "from torch.autograd import Variable\n",
    "import numpy as np\n",
    "import matplotlib.pyplot as plt\n",
    "%load_ext autoreload\n",
    "%autoreload 2\n",
    "\n",
    "#!pip install jupyterthemes\n",
    "from jupyterthemes import jtplot\n",
    "jtplot.style(theme=\"monokai\", context=\"notebook\", ticks=True, grid=True)"
   ]
  },
  {
   "cell_type": "markdown",
   "id": "67f0425e",
   "metadata": {},
   "source": [
    "#### Load Data\n",
    "Load the data to numpy arrays *height* and *weight*. Supsequently, we transform them into torch tensors and also store the number of samples in a variable named *no_of_samples*."
   ]
  },
  {
   "cell_type": "code",
   "execution_count": 23,
   "id": "1f1e0c71",
   "metadata": {},
   "outputs": [],
   "source": [
    "def load_data(sub_sample=True, add_outlier=False):\n",
    "    \"\"\"Load data and convert it to the metric system.\"\"\"\n",
    "    path_dataset = \"height_weight_genders.csv\"\n",
    "    data = np.genfromtxt(\n",
    "        path_dataset, delimiter=\",\", skip_header=1, usecols=[1, 2])\n",
    "    height = data[:, 0]\n",
    "    weight = data[:, 1]\n",
    "    gender = np.genfromtxt(\n",
    "        path_dataset, delimiter=\",\", skip_header=1, usecols=[0],\n",
    "        converters={0: lambda x: 0 if b\"Male\" in x else 1})\n",
    "    # Convert to metric system\n",
    "    height *= 0.025\n",
    "    weight *= 0.454\n",
    "\n",
    "    # sub-sample\n",
    "    if sub_sample:\n",
    "        height = height[::1000]\n",
    "        weight = weight[::1000]\n",
    "\n",
    "    if add_outlier:\n",
    "        # outlier experiment\n",
    "        height = np.concatenate([height, [1.1, 1.2]])\n",
    "        weight = np.concatenate([weight, [51.5/0.454, 55.3/0.454]])\n",
    "\n",
    "    return height, weight, gender\n",
    "\n",
    "\n",
    "height, weight, _ = load_data()\n",
    "height = torch.from_numpy(height)\n",
    "weight = torch.from_numpy(weight)\n",
    "no_of_samples = torch.numel(weight)"
   ]
  },
  {
   "cell_type": "markdown",
   "id": "5fbbead1",
   "metadata": {},
   "source": [
    "#### Standardise the data\n",
    "\n",
    "We standardise our data and therefore write a routine named **standardise** that takes an argument *data_matrix* as its input and returns a matrix where all columns have mean zero and standard deviation one. Subsequently, we set up our data matrix *data_matrix* as\n",
    "\n",
    "$$ \\text{data_matrix} = X := \\left( \\begin{matrix} 1 & x_1 \\\\ 1 & x_2 \\\\ \\vdots & \\vdots \\\\ 1 & x_{\\text{no_of_samples}} \\end{matrix} \\right) \\, ,$$\n",
    "\n",
    "where the $x_i$, $i \\in \\{1, \\ldots, \\text{no_of_samples}\\}$, are the standardised elements of the _height_ vector."
   ]
  },
  {
   "cell_type": "code",
   "execution_count": 24,
   "id": "bacc086e",
   "metadata": {},
   "outputs": [],
   "source": [
    "def standardise(data_matrix):\n",
    "    data_matrix = data_matrix - torch.mean(data_matrix, axis=0)\n",
    "    return data_matrix / torch.std(data_matrix, axis=0)\n",
    "\n",
    "data_matrix = torch.cat((torch.ones((height.numel(), 1), dtype=torch.float64), \\\n",
    "                         standardise(height).view(-1, 1)), 1)"
   ]
  },
  {
   "cell_type": "markdown",
   "id": "0f9b683d",
   "metadata": {},
   "source": [
    "### 1. Linear Regression implementation in Pytorch - Analytical Solution\n",
    "Next, we implement a simple linear regression in PyTorch with the help of the normal equations\n",
    "\n",
    "$$ X^\\top X \\hat w = X^\\top y \\, , $$\n",
    "\n",
    "where $X$ is our mathematical notation for the variable *data_matrix*, $\\hat w$ denotes the variable *optimal_weights* and $y$ the data *weight*. We can compute $\\hat w$, respectively *optimal_weights*, by solving the linear system above. In PyTorch, we do this via the **solve**-command."
   ]
  },
  {
   "cell_type": "code",
   "execution_count": 25,
   "id": "b768caa9",
   "metadata": {},
   "outputs": [
    {
     "name": "stdout",
     "output_type": "stream",
     "text": [
      "tensor([[71.1668],\n",
      "        [19.3268]], dtype=torch.float64)\n"
     ]
    }
   ],
   "source": [
    "gram_matrix = torch.mm(data_matrix.t(), data_matrix)\n",
    "right_hand_side = torch.mv(data_matrix.t(), weight)\n",
    "optimal_weights, _ = torch.solve(right_hand_side.view(-1, 1), gram_matrix)\n",
    "print(optimal_weights)"
   ]
  },
  {
   "cell_type": "markdown",
   "id": "02f7e818",
   "metadata": {},
   "source": [
    "Subsequently, we visualise the data points and the optimal least squares model fit."
   ]
  },
  {
   "cell_type": "code",
   "execution_count": 26,
   "id": "a5e6afc9",
   "metadata": {},
   "outputs": [
    {
     "data": {
      "image/png": "[encoded data removed]",
      "text/plain": [
       "<Figure size 576x504 with 1 Axes>"
      ]
     },
     "metadata": {},
     "output_type": "display_data"
    }
   ],
   "source": [
    "plot_fontsize = 14\n",
    "plt.scatter(height, weight, marker='*', s=90, c='r', label='Data samples')\n",
    "plt.plot(height, torch.mv(data_matrix, optimal_weights.view(-1)), label='Model fit')\n",
    "plt.xlabel('Height in metres', fontsize=plot_fontsize)\n",
    "plt.ylabel('Weight in kg', fontsize=plot_fontsize)\n",
    "plt.legend(loc='best', fontsize=plot_fontsize)\n",
    "plt.show()"
   ]
  },
  {
   "cell_type": "markdown",
   "id": "5b979df4",
   "metadata": {},
   "source": [
    "## 2. Compute the gradient of the MSE via automatic differentiation\n",
    "\n",
    "So far, so good. But now we finally want to learn something new and play with PyTorch's automatic differentiation. Before we do so, we write a function *mean_squared_error* to implement the mean-squared error between our data model and the output data in PyTorch. The function takes some arguments *weights* and computes\n",
    "\n",
    "$$ \\text{MSE}(w) = \\frac{1}{2s} \\| X w - y \\|^2 \\, , $$\n",
    "\n",
    "where $w$ and $s$ are the mathematical notations for the variable *weights* and *no_of_samples*, respectively.\n",
    "Remember! *weight* is an dependent variable here, do not mistake with *weights* parameters."
   ]
  },
  {
   "cell_type": "code",
   "execution_count": 27,
   "id": "220a5550",
   "metadata": {},
   "outputs": [],
   "source": [
    "def mean_squared_error(weights):\n",
    "    return 1/2 * torch.mean( ( torch.mv(data_matrix, weights.view(-1)) - weight ) ** 2)"
   ]
  },
  {
   "cell_type": "markdown",
   "id": "4e320615",
   "metadata": {},
   "source": [
    "Before we automatically differentiate, we first write a routine that manually computes the gradient $\\nabla \\text{MSE}(w)$ of the MSE-function, as we have done in the previous semester with Numpy. The incentive is to compare the result of this routine with the automatic differentiation routines. We write a function **manual_mean_squared_error_gradient** that takes an argument *weights* and returns the corresponding gradient."
   ]
  },
  {
   "cell_type": "code",
   "execution_count": 28,
   "id": "8a2eb3de",
   "metadata": {},
   "outputs": [],
   "source": [
    "def manual_mean_squared_error_gradient(weights):\n",
    "    return 1/no_of_samples * (torch.mv(data_matrix.t(), \\\n",
    "                        torch.mv(data_matrix, weights.view(-1)) - weight))"
   ]
  },
  {
   "cell_type": "markdown",
   "id": "ae7732c2",
   "metadata": {},
   "source": [
    "Before we automatically differentiate, we first write a routine that manually computes the gradient $\\nabla \\text{MSE}(w)$ of the MSE-function, as we could do with Numpy. The incentive is to compare the result of Numpy routine with the automatic differentiation routines. We write a function **manual_mean_squared_error_gradient** that takes an argument *weights* and returns the corresponding gradient."
   ]
  },
  {
   "cell_type": "code",
   "execution_count": 29,
   "id": "a8c0281c",
   "metadata": {},
   "outputs": [],
   "source": [
    "optimal_weights.requires_grad_(True)\n",
    "loss_function = mean_squared_error(optimal_weights)"
   ]
  },
  {
   "cell_type": "markdown",
   "id": "ee978d99",
   "metadata": {},
   "source": [
    "Now we compute the gradient of *loss_function* with respect to all variables that have *requires_grad_* enabled via the command **backward**."
   ]
  },
  {
   "cell_type": "code",
   "execution_count": 30,
   "id": "c9789ede",
   "metadata": {},
   "outputs": [],
   "source": [
    "loss_function.backward()"
   ]
  },
  {
   "cell_type": "markdown",
   "id": "68f31a41",
   "metadata": {},
   "source": [
    "We assign the gradient of *loss_function* with respect to the variable *optimal_weights* to the variable *torch_gradient*. We also compute a manual gradient *manual_gradient* via **manual_mean_squared_error_gradient** and compare both."
   ]
  },
  {
   "cell_type": "code",
   "execution_count": 31,
   "id": "4ba6f1af",
   "metadata": {},
   "outputs": [
    {
     "name": "stdout",
     "output_type": "stream",
     "text": [
      "tensor([[ 1.4988e-15],\n",
      "        [-4.7391e-15]], dtype=torch.float64) \n",
      "\n",
      " tensor([ 1.4211e-15, -4.6811e-15], dtype=torch.float64)\n"
     ]
    }
   ],
   "source": [
    "torch_gradient = optimal_weights.grad\n",
    "manual_gradient = manual_mean_squared_error_gradient(optimal_weights.detach())\n",
    "print(torch_gradient, '\\n\\n', manual_gradient)"
   ]
  },
  {
   "cell_type": "markdown",
   "id": "6a9da18a",
   "metadata": {},
   "source": [
    "As we would expect, both gradients are basically zero in terms of machine precision. We repeat the experiment with random weights *random_weights* and again compare the results."
   ]
  },
  {
   "cell_type": "code",
   "execution_count": 38,
   "id": "241968b1",
   "metadata": {},
   "outputs": [
    {
     "name": "stdout",
     "output_type": "stream",
     "text": [
      "tensor([-71.2784, -18.4252], dtype=torch.float64) \n",
      "\n",
      " tensor([-71.2784, -18.4252], dtype=torch.float64)\n"
     ]
    }
   ],
   "source": [
    "torch.manual_seed(13)\n",
    "random_weights = torch.randn(2, requires_grad=True, dtype=torch.float64)\n",
    "loss_function = mean_squared_error(random_weights)\n",
    "loss_function.backward()\n",
    "torch_gradient = random_weights.grad\n",
    "manual_gradient = manual_mean_squared_error_gradient(random_weights.detach())\n",
    "print(torch_gradient, '\\n\\n', manual_gradient)"
   ]
  },
  {
   "cell_type": "markdown",
   "id": "3f231ab5",
   "metadata": {},
   "source": [
    "## 3. Gradient descent\n",
    "\n",
    "To conlude, we implement gradient descent in order to minimise the MSE iteratively. We compute the gradient via automatic differentiation as in the previous example. We print the value of the MSE loss function every three iterations and also print the computed weights *weights*. "
   ]
  },
  {
   "cell_type": "code",
   "execution_count": 39,
   "id": "4ac22fa3",
   "metadata": {},
   "outputs": [
    {
     "name": "stdout",
     "output_type": "stream",
     "text": [
      "Gradient descent(0/29): loss = 2709.4087032877324\n",
      "Gradient descent(3/29): loss = 447.46863189721034\n",
      "Gradient descent(6/29): loss = 80.39363769630994\n",
      "Gradient descent(9/29): loss = 20.645075647477913\n",
      "Gradient descent(12/29): loss = 10.885075122365349\n",
      "Gradient descent(15/29): loss = 9.284013978406733\n",
      "Gradient descent(18/29): loss = 9.020063754903815\n",
      "Gradient descent(21/29): loss = 8.976297102294327\n",
      "Gradient descent(24/29): loss = 8.968991658663304\n",
      "Gradient descent(27/29): loss = 8.967763034918086\n",
      "Gradient descent completed: weights = tensor([71.1593, 19.3210], dtype=torch.float64), loss = 8.967589081236053.\n"
     ]
    }
   ],
   "source": [
    "weights = torch.zeros(2, dtype=torch.float64, requires_grad=True)\n",
    "step_size = (0.5 * no_of_samples)/(torch.norm(data_matrix, 'fro') ** 2)\n",
    "maximum_no_of_iterations =30\n",
    "losses = []\n",
    "for counter in range(maximum_no_of_iterations):\n",
    "    loss_function = mean_squared_error(weights)\n",
    "    losses.append(loss_function.item())\n",
    "    loss_function.backward()\n",
    "    with torch.no_grad():\n",
    "        weights = weights - step_size * weights.grad\n",
    "    weights.requires_grad_(True)    \n",
    "    if counter % 3 == 0:\n",
    "        print(\"Gradient descent({it}/{max_iter}): loss = {l}\".format(\n",
    "                  it=counter, max_iter=maximum_no_of_iterations - 1, l=losses[counter]))\n",
    "losses.append(loss_function.item())        \n",
    "\n",
    "weights.requires_grad_(False)\n",
    "print(\"Gradient descent completed: weights = {w}, loss = {l}.\".format(\n",
    "    w = weights, l=loss_function.item()))"
   ]
  },
  {
   "cell_type": "markdown",
   "id": "73f03a7d",
   "metadata": {},
   "source": [
    "For our second implementation of gradient descent we use the built-in (stochastic) gradient descent solver **SGD**. Otherwise we proceed in identical fashion. "
   ]
  },
  {
   "cell_type": "code",
   "execution_count": 40,
   "id": "d2e140e4",
   "metadata": {},
   "outputs": [
    {
     "name": "stdout",
     "output_type": "stream",
     "text": [
      "Gradient descent(0/29): loss = 2709.4087032877324\n",
      "Gradient descent(3/29): loss = 447.46863189721034\n",
      "Gradient descent(6/29): loss = 80.39363769630994\n",
      "Gradient descent(9/29): loss = 20.645075647477913\n",
      "Gradient descent(12/29): loss = 10.885075122365349\n",
      "Gradient descent(15/29): loss = 9.284013978406733\n",
      "Gradient descent(18/29): loss = 9.020063754903815\n",
      "Gradient descent(21/29): loss = 8.976297102294327\n",
      "Gradient descent(24/29): loss = 8.968991658663304\n",
      "Gradient descent(27/29): loss = 8.967763034918086\n",
      "Gradient descent completed: weights = tensor([71.1593, 19.3210], dtype=torch.float64), loss = 8.967589081236053.\n"
     ]
    }
   ],
   "source": [
    "weights = Variable(torch.zeros(2, dtype=torch.float64), requires_grad=True)\n",
    "data_matrix = Variable(data_matrix, requires_grad=False)\n",
    "weight = Variable(weight, requires_grad=False)\n",
    "step_size = (0.5 * no_of_samples)/(torch.norm(data_matrix, 'fro') ** 2)\n",
    "optimiser = optim.SGD([weights], lr=step_size)\n",
    "maximum_no_of_iterations = 30\n",
    "losses = []\n",
    "for counter in range(maximum_no_of_iterations):\n",
    "    optimiser.zero_grad()\n",
    "    loss_function = mean_squared_error(weights)\n",
    "    losses.append(loss_function.item())\n",
    "    loss_function.backward()\n",
    "    optimiser.step()    \n",
    "    if counter % 3 == 0:\n",
    "        print(\"Gradient descent({it}/{max_iter}): loss = {l}\".format(\n",
    "                  it=counter, max_iter=maximum_no_of_iterations - 1, l=losses[counter]))\n",
    "\n",
    "weights.requires_grad_(False)\n",
    "print(\"Gradient descent completed: weights = {w}, loss = {l}.\".format(\n",
    "    w = weights, l=loss_function.item()))"
   ]
  },
  {
   "cell_type": "markdown",
   "id": "41f960d7",
   "metadata": {},
   "source": [
    "Observe that both from scratch and built-in approaches provide us with the same results. "
   ]
  }
 ],
 "metadata": {
  "kernelspec": {
   "display_name": "tor",
   "language": "python",
   "name": "tor"
  },
  "language_info": {
   "codemirror_mode": {
    "name": "ipython",
    "version": 3
   },
   "file_extension": ".py",
   "mimetype": "text/x-python",
   "name": "python",
   "nbconvert_exporter": "python",
   "pygments_lexer": "ipython3",
   "version": "3.9.7"
  }
 },
 "nbformat": 4,
 "nbformat_minor": 5
}
