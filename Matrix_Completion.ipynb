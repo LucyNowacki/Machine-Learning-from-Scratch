{
 "cells": [
  {
   "cell_type": "markdown",
   "id": "6b399e40",
   "metadata": {},
   "source": [
    "## Matrix Completion\n",
    "We aim to complete a matrix of incomplete movie ratings with the two\n",
    "matrix completion algorithms introduced in the lecture."
   ]
  },
  {
   "cell_type": "code",
   "execution_count": 2,
   "id": "9598c3b6",
   "metadata": {},
   "outputs": [],
   "source": [
    "import numpy as np\n",
    "import scipy.sparse as sp\n",
    "%load_ext autoreload\n",
    "%autoreload 2"
   ]
  },
  {
   "cell_type": "code",
   "execution_count": null,
   "id": "f2363528",
   "metadata": {},
   "outputs": [],
   "source": []
  },
  {
   "cell_type": "markdown",
   "id": "718468a1",
   "metadata": {},
   "source": [
    "Next, we use the provided routines that allow us to load the csv dataset and store the rankings in a matrix."
   ]
  },
  {
   "cell_type": "code",
   "execution_count": 3,
   "id": "d0f0425c",
   "metadata": {},
   "outputs": [],
   "source": [
    "def read_txt(path):\n",
    "    \"\"\"read text file from path.\"\"\"\n",
    "    with open(path, \"r\") as path:\n",
    "        return path.read().splitlines()\n",
    "\n",
    "def load_data(dataset_path):\n",
    "    \"\"\"Load data in text format, one rating per line, as in the kaggle competition.\"\"\"\n",
    "    data = read_txt(dataset_path)[1:]\n",
    "    return preprocess_data(data)\n",
    "\n",
    "def preprocess_data(data):\n",
    "    \"\"\"preprocessing the text data, conversion to numerical array format.\"\"\"\n",
    "    def process_line(line):\n",
    "        position, rating = line.split(',')\n",
    "        row, column = position.split(\"_\")\n",
    "        row = row.replace(\"r\", \"\")\n",
    "        column = column.replace(\"c\", \"\")\n",
    "        return int(row), int(column), float(rating)\n",
    "\n",
    "    def statistics(data):\n",
    "        row = set([line[0] for line in data])\n",
    "        column = set([line[1] for line in data])\n",
    "        return min(row), max(row), min(column), max(column)\n",
    "\n",
    "    # parse each line\n",
    "    data = [process_line(line) for line in data]\n",
    "\n",
    "    # perform basic statistics on the dataset.\n",
    "    min_row, max_row, min_column, max_column = statistics(data)\n",
    "    print(\"number of items: {}, number of users: {}\".format(max_row, max_column))\n",
    "\n",
    "    # build rating matrix.\n",
    "    ratings = sp.lil_matrix((max_row, max_column))\n",
    "    for row, column, rating in data:\n",
    "        ratings[row - 1, column - 1] = rating\n",
    "    return ratings"
   ]
  },
  {
   "cell_type": "markdown",
   "id": "4e7e0b95",
   "metadata": {},
   "source": [
    "Finally, we load and store the data via *load_data*. Please use the path at which you have stored the csv file. Data is stored in matrix *ratings*, aka matrix $X \\in \\mathbb{R}^{\\# movies\\,x\\,\\# users}$. The matrix $X$ contains ratings from 1 to 5. In other words, this $1682 \\times 943$ has movie ratings for 1682 movies from 943 users in the range of 1 to 5. Missing ratings are set to zero."
   ]
  },
  {
   "cell_type": "code",
   "execution_count": 7,
   "id": "8c53e716",
   "metadata": {},
   "outputs": [
    {
     "name": "stdout",
     "output_type": "stream",
     "text": [
      "number of items: 1682, number of users: 943\n"
     ]
    }
   ],
   "source": [
    "ratings = load_data('movielens100k.csv').todense()\n",
    "dimensions = ratings.shape"
   ]
  },
  {
   "cell_type": "code",
   "execution_count": 8,
   "id": "6506a52e",
   "metadata": {},
   "outputs": [
    {
     "data": {
      "text/plain": [
       "matrix([[0., 4., 0., 0., 4., 4., 0., 0., 0., 4.],\n",
       "        [3., 0., 0., 0., 3., 0., 0., 0., 0., 0.],\n",
       "        [4., 0., 0., 0., 0., 0., 0., 0., 0., 0.],\n",
       "        [3., 0., 0., 0., 0., 0., 5., 0., 0., 4.],\n",
       "        [3., 0., 0., 0., 0., 0., 0., 0., 0., 0.],\n",
       "        [5., 0., 0., 0., 0., 0., 0., 0., 5., 0.],\n",
       "        [4., 0., 0., 0., 0., 2., 5., 3., 4., 4.],\n",
       "        [1., 0., 0., 0., 0., 4., 5., 0., 0., 0.],\n",
       "        [5., 0., 0., 0., 0., 4., 5., 0., 0., 4.],\n",
       "        [3., 2., 0., 0., 0., 0., 4., 0., 0., 0.]])"
      ]
     },
     "execution_count": 8,
     "metadata": {},
     "output_type": "execute_result"
    }
   ],
   "source": [
    "ratings[0:10, 0:10]"
   ]
  },
  {
   "cell_type": "markdown",
   "id": "90594337",
   "metadata": {},
   "source": [
    "Now we implement projection $P_\\Omega : \\mathbb{R}^{\\#movies\\,x\\,\\#users}\\longrightarrow \\mathbb{R}^{\\# known\\, entries}$ that stores all entries of $X$ in a vector, and its transpose operation $P_{\\Omega}^T$."
   ]
  },
  {
   "cell_type": "code",
   "execution_count": 10,
   "id": "dd8a67f2",
   "metadata": {},
   "outputs": [],
   "source": [
    "def projection(matrix, known_indices):\n",
    "    known_entries = matrix.flat[known_indices]\n",
    "    return known_entries\n",
    "\n",
    "def transpose_projection(known_entries, known_indices, matrix_dimensions):\n",
    "    matrix = np.zeros(matrix_dimensions)\n",
    "    matrix.flat[known_indices] = known_entries\n",
    "    return matrix"
   ]
  },
  {
   "cell_type": "markdown",
   "id": "ae6893aa",
   "metadata": {},
   "source": [
    "Turn for proximal map for the nuclear norm, i.e.\n",
    "$$(I+\\gamma \\partial\\|\\cdot\\|_*)^{-1}(Z)= \\underset{X\\in\\mathbb{R}^{\\#movies\\,x\\,\\#users}}{\\arg\\,min}\\left\\{ frac{1}{2}\\|X-Z\\|_{Fro}^2+\\gamma\\|X\\|_*  \\right\\}=U\\,diag\\,(soft_{\\gamma}(\\sigma))V^T $$\n",
    "\\\n",
    "where $Z=U\\,diag(\\sigma)V^T$ and $\\sigma=\\sigma_1,\\sigma_2,...,\\sigma_{943})$ is a vectorof singular values, and $soft_{\\gamma}$ dentotes the point-wise soft-thresholding operator, i.e.\n",
    "<br>\n",
    "\\\n",
    "$$\n",
    "soft_{\\gamma}(\\sigma)_j=\\begin{cases}\n",
    "    \\sigma_j-\\gamma, & \\text{if $\\sigma_j > \\gamma$}.\\\\\n",
    "    0, & \\text{otherwise}.\n",
    "  \\end{cases}\n",
    "$$"
   ]
  },
  {
   "cell_type": "code",
   "execution_count": 12,
   "id": "075536dc",
   "metadata": {},
   "outputs": [],
   "source": [
    "def soft_shrinkage(input_vector, regularisation_parameter=1):\n",
    "    return np.clip(input_vector - regularisation_parameter, a_min=0, a_max=np.inf)\n",
    "\n",
    "def nuclear_norm_proximal_mapping(matrix, regularisation_parameter=1):\n",
    "    U, S, V_transpose = np.linalg.svd(matrix, full_matrices=0)\n",
    "    return U @ np.diag(soft_shrinkage(S, regularisation_parameter)) @ V_transpose"
   ]
  },
  {
   "cell_type": "code",
   "execution_count": 13,
   "id": "524d2fc4",
   "metadata": {},
   "outputs": [],
   "source": [
    "known_indices = np.where(ratings.ravel() != 0)[1]\n",
    "known_ratings = projection(ratings, known_indices)\n",
    "known_ratings_centred = known_ratings - 2.5"
   ]
  },
  {
   "cell_type": "markdown",
   "id": "dac28978",
   "metadata": {},
   "source": [
    "Now we can implement non-accelerated and accelerated matrix completion to complete missing entries of the matrix"
   ]
  },
  {
   "cell_type": "code",
   "execution_count": 15,
   "id": "0d360c60",
   "metadata": {},
   "outputs": [],
   "source": [
    "def matrix_completion(known_indices, known_entries, matrix_dimensions, scaling_parameter=10, \\\n",
    "                      maximum_no_iterations=5000, tolerance=10**(-8), acceleration=False):\n",
    "        \n",
    "    low_rank_matrix = np.zeros(matrix_dimensions)\n",
    "    entries = known_entries\n",
    "    previous_entries = known_entries\n",
    "    \n",
    "    step_size = 1\n",
    "    adaptive_step_size = 0\n",
    "    counter = 0\n",
    "    sensitivity = 1/2 * np.linalg.norm(known_entries) ** 2\n",
    "    sensitivities = []\n",
    "    sensitivities.append(sensitivity)\n",
    "    \n",
    "    while (sensitivity > tolerance) and (counter < maximum_no_iterations):\n",
    "        argument = (1 + adaptive_step_size) * entries - adaptive_step_size * previous_entries\n",
    "        \n",
    "        low_rank_matrix = nuclear_norm_proximal_mapping(step_size * transpose_projection(argument, \\\n",
    "                                                            known_indices, matrix_dimensions), scaling_parameter)\n",
    "        \n",
    "        previous_entries = entries\n",
    "        \n",
    "        residual = projection(low_rank_matrix, known_indices) - known_entries\n",
    "        \n",
    "        entries = argument - residual\n",
    "        \n",
    "        sensitivity = 1/2 * np.linalg.norm(residual) ** 2\n",
    "        sensitivities.append(sensitivity)\n",
    "        counter += 1\n",
    "        \n",
    "        if counter % 50 == 0:\n",
    "            print('Iteration [%d/%d], sensitivity: %.4f/%.4f' \n",
    "                   %(counter, maximum_no_iterations, sensitivity, tolerance))\n",
    "            \n",
    "        if acceleration == True:\n",
    "            adaptive_step_size = (counter - 1)/(counter + 3)\n",
    "            \n",
    "    print('Completed after iteration [%d/%d], sensitivity: %.4f/%.4f' \n",
    "                   %(counter, maximum_no_iterations, sensitivity, tolerance))\n",
    "        \n",
    "    return low_rank_matrix, sensitivities"
   ]
  },
  {
   "cell_type": "code",
   "execution_count": 16,
   "id": "83a39eab",
   "metadata": {},
   "outputs": [
    {
     "name": "stdout",
     "output_type": "stream",
     "text": [
      "Iteration [50/5000], sensitivity: 0.0050/0.0000\n",
      "Iteration [100/5000], sensitivity: 0.0000/0.0000\n",
      "Iteration [150/5000], sensitivity: 0.0000/0.0000\n",
      "Iteration [200/5000], sensitivity: 0.0000/0.0000\n",
      "Completed after iteration [203/5000], sensitivity: 0.0000/0.0000\n"
     ]
    }
   ],
   "source": [
    "complete_ratings_1, _ = matrix_completion(known_indices, known_ratings, dimensions, \\\n",
    "                                        scaling_parameter=100, acceleration=True)"
   ]
  },
  {
   "cell_type": "markdown",
   "id": "d0ce3d59",
   "metadata": {},
   "source": [
    "This time subtract the value 2.5 from your known movie\n",
    "ratings, and add it back once you’ve completed the matrix completion."
   ]
  },
  {
   "cell_type": "code",
   "execution_count": 17,
   "id": "1b117f5e",
   "metadata": {},
   "outputs": [
    {
     "name": "stdout",
     "output_type": "stream",
     "text": [
      "Iteration [50/5000], sensitivity: 0.0360/0.0000\n",
      "Iteration [100/5000], sensitivity: 0.0003/0.0000\n",
      "Iteration [150/5000], sensitivity: 0.0000/0.0000\n",
      "Iteration [200/5000], sensitivity: 0.0000/0.0000\n",
      "Iteration [250/5000], sensitivity: 0.0000/0.0000\n",
      "Iteration [300/5000], sensitivity: 0.0000/0.0000\n",
      "Completed after iteration [315/5000], sensitivity: 0.0000/0.0000\n"
     ]
    }
   ],
   "source": [
    "complete_ratings_2, _ = matrix_completion(known_indices, known_ratings_centred, dimensions, \\\n",
    "                                        scaling_parameter=100, acceleration=True)\n",
    "complete_ratings_2 += 2.5"
   ]
  },
  {
   "cell_type": "markdown",
   "id": "41547368",
   "metadata": {},
   "source": [
    "Results comparision"
   ]
  },
  {
   "cell_type": "code",
   "execution_count": 18,
   "id": "e62294ee",
   "metadata": {},
   "outputs": [
    {
     "name": "stdout",
     "output_type": "stream",
     "text": [
      "[[0. 4. 0. 0. 4. 4. 0. 0.]\n",
      " [3. 0. 0. 0. 3. 0. 0. 0.]\n",
      " [4. 0. 0. 0. 0. 0. 0. 0.]\n",
      " [3. 0. 0. 0. 0. 0. 5. 0.]\n",
      " [3. 0. 0. 0. 0. 0. 0. 0.]\n",
      " [5. 0. 0. 0. 0. 0. 0. 0.]\n",
      " [4. 0. 0. 0. 0. 2. 5. 3.]\n",
      " [1. 0. 0. 0. 0. 4. 5. 0.]] \n",
      "\n",
      " [[ 2.3e+00  4.0e+00  2.1e-01  3.8e-01  4.0e+00  4.0e+00  2.4e+00  1.8e+00]\n",
      " [ 3.0e+00  3.4e-01 -1.3e-01 -1.4e-01  3.0e+00  5.9e-01  1.7e+00  2.0e+00]\n",
      " [ 4.0e+00  4.3e-01 -1.2e-01  1.5e-01  1.3e-01  2.7e-01 -5.4e-02  9.9e-02]\n",
      " [ 3.0e+00 -4.5e-02 -4.9e-04 -1.2e-01  1.4e+00  1.7e+00  5.0e+00  2.0e+00]\n",
      " [ 3.0e+00  2.7e-01  9.6e-02  1.5e-01  7.7e-01  7.7e-01  1.6e+00  3.4e-01]\n",
      " [ 5.0e+00  5.0e-01 -4.7e-01 -1.9e-01  5.0e-02  1.6e-01  7.0e-01 -8.1e-01]\n",
      " [ 4.0e+00  1.2e+00  4.2e-01  5.8e-01  3.1e+00  2.0e+00  5.0e+00  3.0e+00]\n",
      " [ 1.0e+00  6.9e-01  5.9e-02 -4.7e-02  1.5e+00  4.0e+00  5.0e+00  1.5e+00]] \n",
      "\n",
      " [[3.3 4.  2.5 2.7 4.  4.  3.6 3.4]\n",
      " [3.  2.7 2.6 2.6 3.  2.5 3.2 3. ]\n",
      " [4.  2.5 2.4 2.5 2.4 2.4 2.2 2.7]\n",
      " [3.  2.7 2.3 2.4 3.  3.4 5.  3. ]\n",
      " [3.  2.9 2.3 2.5 2.7 3.3 3.  2.8]\n",
      " [5.  2.7 2.4 2.5 2.2 3.1 2.6 2.1]\n",
      " [4.  2.7 2.7 2.8 4.2 2.  5.  3. ]\n",
      " [1.  2.8 2.2 2.7 2.8 4.  5.  3.2]]\n"
     ]
    }
   ],
   "source": [
    "np.set_printoptions(precision=1)\n",
    "print(ratings[0:8, 0:8], '\\n\\n', complete_ratings_1[0:8, 0:8], '\\n\\n', complete_ratings_2[0:8, 0:8])"
   ]
  },
  {
   "cell_type": "code",
   "execution_count": 19,
   "id": "d53457ef",
   "metadata": {},
   "outputs": [
    {
     "name": "stdout",
     "output_type": "stream",
     "text": [
      "Rank of non-centred matrix is 385. \n",
      "\n",
      " Rank of centred matrix is 321.\n"
     ]
    }
   ],
   "source": [
    "print('Rank of non-centred matrix is %d. \\n\\n Rank of centred matrix is %d.'\n",
    "      %(np.linalg.matrix_rank(complete_ratings_1), np.linalg.matrix_rank(complete_ratings_2 - 2.5)))"
   ]
  },
  {
   "cell_type": "code",
   "execution_count": null,
   "id": "6ac0597d",
   "metadata": {},
   "outputs": [],
   "source": []
  }
 ],
 "metadata": {
  "kernelspec": {
   "display_name": "tor",
   "language": "python",
   "name": "tor"
  },
  "language_info": {
   "codemirror_mode": {
    "name": "ipython",
    "version": 3
   },
   "file_extension": ".py",
   "mimetype": "text/x-python",
   "name": "python",
   "nbconvert_exporter": "python",
   "pygments_lexer": "ipython3",
   "version": "3.9.7"
  }
 },
 "nbformat": 4,
 "nbformat_minor": 5
}
