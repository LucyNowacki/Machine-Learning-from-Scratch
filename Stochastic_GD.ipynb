{
 "cells": [
  {
   "cell_type": "code",
   "execution_count": 2,
   "id": "a8f71a3a",
   "metadata": {},
   "outputs": [],
   "source": [
    "# Useful starting lines\n",
    "%matplotlib inline\n",
    "import pandas as pd\n",
    "import numpy as np\n",
    "import matplotlib.pyplot as plt\n",
    "%load_ext autoreload\n",
    "%autoreload 2\n",
    "\n",
    "from jupyterthemes import jtplot\n",
    "jtplot.style(theme=\"monokai\", context=\"notebook\", ticks=True, grid=True)"
   ]
  },
  {
   "cell_type": "code",
   "execution_count": 11,
   "id": "a8c3c770",
   "metadata": {},
   "outputs": [],
   "source": [
    "#from helpers import *\n",
    "def load_data():\n",
    "    \"\"\"load data.\"\"\"\n",
    "    data = np.loadtxt(\"dataEx4.csv\", delimiter=\",\", skiprows=1, unpack=True)\n",
    "    #a = pd.read_csv(\"height_weight_genders.csv\",sep=\",\")\n",
    "    #data = a.drop(a.columns[0], axis=1).values.T\n",
    "    x = data[0]\n",
    "    y = data[1]\n",
    "    return x, y\n",
    "\n",
    "def standardise(x):\n",
    "    \"\"\"Standardise the original data set.\"\"\"\n",
    "    mean_x = np.mean(x, axis=0)\n",
    "    x = x - mean_x\n",
    "    std_x = np.std(x, axis=0)\n",
    "    x = x / std_x\n",
    "    return x, mean_x, std_x\n",
    "\n",
    "def split_data(x, y, ratio, myseed=1):\n",
    "    \"\"\"split the dataset based on the split ratio.\"\"\"\n",
    "    # set seed\n",
    "    #np.random.seed(myseed)\n",
    "    # generate random indices\n",
    "    num_row = len(y)\n",
    "    indices = np.random.permutation(num_row)\n",
    "    index_split = int(np.floor(ratio * num_row))\n",
    "    index_tr = indices[: index_split]\n",
    "    index_te = indices[index_split:]\n",
    "    # create split\n",
    "    x_tr = x[index_tr]\n",
    "    x_te = x[index_te]\n",
    "    y_tr = y[index_tr]\n",
    "    y_te = y[index_te]\n",
    "    return x_tr, x_te, y_tr, y_te\n",
    "\n",
    "\n",
    "def build_poly(x, degree):\n",
    "    \"\"\"polynomial basis functions for input data x, for j=0 up to j=degree.\"\"\"\n",
    "    poly = np.ones((len(x), 1))\n",
    "    for deg in range(1, degree+1):\n",
    "        poly = np.c_[poly, np.power(x, deg)]\n",
    "    return poly\n",
    "\n",
    "def batch_iter(y, tx, batch_size, num_batches=1, shuffle=True):\n",
    "    data_size = len(y)\n",
    "\n",
    "    if shuffle:\n",
    "        shuffle_indices = np.random.permutation(np.arange(data_size))\n",
    "        shuffled_y = y[shuffle_indices]\n",
    "        shuffled_tx = tx[shuffle_indices]\n",
    "    else:\n",
    "        shuffled_y = y\n",
    "        shuffled_tx = tx\n",
    "    for batch_num in range(num_batches):\n",
    "        start_index = batch_num * batch_size\n",
    "        end_index = min((batch_num + 1) * batch_size, data_size)\n",
    "        if start_index != end_index:\n",
    "            yield shuffled_y[start_index:end_index], shuffled_tx[start_index:end_index]"
   ]
  },
  {
   "cell_type": "code",
   "execution_count": 10,
   "id": "9aa3a0a3",
   "metadata": {},
   "outputs": [
    {
     "name": "stdout",
     "output_type": "stream",
     "text": [
      "index=0, proportion=0.2, degree=3, lambda=0.00001, Training RMSE=0.3154, Testing RMSE=0.3195\n",
      "index=1, proportion=0.2, degree=3, lambda=0.00001, Training RMSE=0.3202, Testing RMSE=0.3158\n",
      "index=2, proportion=0.2, degree=3, lambda=0.00002, Training RMSE=0.2784, Testing RMSE=0.2988\n",
      "index=3, proportion=0.2, degree=3, lambda=0.00003, Training RMSE=0.2825, Testing RMSE=0.3109\n",
      "index=4, proportion=0.2, degree=3, lambda=0.00005, Training RMSE=0.2950, Testing RMSE=0.2997\n",
      "index=5, proportion=0.2, degree=3, lambda=0.00007, Training RMSE=0.2862, Testing RMSE=0.2866\n",
      "index=6, proportion=0.2, degree=3, lambda=0.00011, Training RMSE=0.3337, Testing RMSE=0.2859\n",
      "index=7, proportion=0.2, degree=3, lambda=0.00016, Training RMSE=0.3122, Testing RMSE=0.2914\n",
      "index=8, proportion=0.2, degree=3, lambda=0.00024, Training RMSE=0.2838, Testing RMSE=0.2933\n",
      "index=9, proportion=0.2, degree=3, lambda=0.00036, Training RMSE=0.2839, Testing RMSE=0.3182\n",
      "index=10, proportion=0.2, degree=3, lambda=0.00053, Training RMSE=0.2869, Testing RMSE=0.3228\n",
      "index=11, proportion=0.2, degree=3, lambda=0.00079, Training RMSE=0.2878, Testing RMSE=0.3036\n",
      "index=12, proportion=0.2, degree=3, lambda=0.00117, Training RMSE=0.2883, Testing RMSE=0.3117\n",
      "index=13, proportion=0.2, degree=3, lambda=0.00174, Training RMSE=0.2889, Testing RMSE=0.2963\n",
      "index=14, proportion=0.2, degree=3, lambda=0.00259, Training RMSE=0.2900, Testing RMSE=0.2791\n",
      "index=15, proportion=0.2, degree=3, lambda=0.00386, Training RMSE=0.3373, Testing RMSE=0.3063\n",
      "index=16, proportion=0.2, degree=3, lambda=0.00574, Training RMSE=0.3035, Testing RMSE=0.2666\n",
      "index=17, proportion=0.2, degree=3, lambda=0.00853, Training RMSE=0.3333, Testing RMSE=0.2620\n",
      "index=18, proportion=0.2, degree=3, lambda=0.01269, Training RMSE=0.2969, Testing RMSE=0.2714\n",
      "index=19, proportion=0.2, degree=3, lambda=0.01887, Training RMSE=0.2928, Testing RMSE=0.2641\n",
      "index=20, proportion=0.2, degree=3, lambda=0.02807, Training RMSE=0.3134, Testing RMSE=0.3322\n",
      "index=21, proportion=0.2, degree=3, lambda=0.04175, Training RMSE=0.3664, Testing RMSE=0.3897\n",
      "index=22, proportion=0.2, degree=3, lambda=0.06210, Training RMSE=0.3670, Testing RMSE=0.3611\n",
      "index=23, proportion=0.2, degree=3, lambda=0.09237, Training RMSE=0.3722, Testing RMSE=0.3104\n",
      "index=24, proportion=0.2, degree=3, lambda=0.13738, Training RMSE=0.4275, Testing RMSE=0.4615\n",
      "index=25, proportion=0.2, degree=3, lambda=0.20434, Training RMSE=0.5182, Testing RMSE=0.5123\n",
      "index=26, proportion=0.2, degree=3, lambda=0.30392, Training RMSE=0.5524, Testing RMSE=0.4773\n",
      "index=27, proportion=0.2, degree=3, lambda=0.45204, Training RMSE=0.5947, Testing RMSE=0.5462\n",
      "index=28, proportion=0.2, degree=3, lambda=0.67234, Training RMSE=0.6983, Testing RMSE=0.6755\n",
      "index=29, proportion=0.2, degree=3, lambda=1.00000, Training RMSE=0.7294, Testing RMSE=0.7389\n"
     ]
    },
    {
     "data": {
      "image/png": "[encoded data removed]",
      "text/plain": [
       "<Figure size 576x504 with 1 Axes>"
      ]
     },
     "metadata": {},
     "output_type": "display_data"
    }
   ],
   "source": [
    "def get_grad_ridge(tx, y, w, lamb):\n",
    "    err = y - tx.dot(w)\n",
    "    grad = -err.dot(tx)/ len(err) + lamb*w\n",
    "    return grad, err\n",
    "\n",
    "def mse_ridge(e, lamb, w):\n",
    "    \"\"\"Calculate the mse for vector e.\"\"\"\n",
    "    return 1/2*np.mean(e**2)+1/2*lamb*w.dot(w) \n",
    "\n",
    "def compute_mse(y, tx, w):\n",
    "    \"\"\"compute the loss by mse.\"\"\"\n",
    "    err = y - tx.dot(w)\n",
    "    return 1/2*np.mean(err**2)\n",
    "\n",
    "def ridge_reg_SGD(y, X, d, max_iters, gamma, lamb, batch_size):\n",
    "    tx = build_poly(X, d)\n",
    "    initial_w = np.zeros(d+1)\n",
    "    w = initial_w\n",
    "    ws = [initial_w]\n",
    "    losses = []\n",
    "    for n_iter in range(max_iters):\n",
    "        for y_batch, tx_batch in batch_iter(y, tx, batch_size=batch_size, num_batches=1, shuffle=True):\n",
    "            # compute loss, gradient\n",
    "            #err = y - tx.dot(w)\n",
    "            #grad = (-err.dot(tx)/ len(err) + lamb*w) \n",
    "            #loss = 1/2*np.mean(err**2) + lamb*np.dot(w,w)\n",
    "            grad, err = get_grad_ridge(tx_batch, y_batch, w, lamb)\n",
    "            loss = mse_ridge(err, lamb, w)\n",
    "            w = w - gamma * grad\n",
    "            ws.append(w)\n",
    "            losses.append(loss)\n",
    "    #         if n_iter % 100 == 0:\n",
    "    #             print(\"Gradient Descent({bi}/{ti}): loss={l}, w0={w0}, w1={w1}\".format(\n",
    "    #                 bi=n_iter, ti=max_iters - 1, l=loss, w0=w[0], w1=w[1]))\n",
    "    return w, tx\n",
    "\n",
    "x, y = load_data()\n",
    "x, mean_x, std_x = standardise(x)\n",
    "d = 3\n",
    "max_iters = 2000\n",
    "gamma = 0.08\n",
    "seed = 56\n",
    "split_ratio = 0.2\n",
    "batch_size = 2\n",
    "\n",
    "def ridge_reg_SGD_demo(x, y, split_ratio, seed, d, max_iters, gamma):\n",
    "    \n",
    "    x_tr, x_te, y_tr, y_te = split_data(x, y, split_ratio, seed)\n",
    "    built_x_te = build_poly(x_te, d)\n",
    "    lambdas = np.logspace(-5, 0, 30)\n",
    "    rmse_tr = []\n",
    "    rmse_te = []\n",
    "    rmse_te_dict = {}\n",
    "    weights = []\n",
    "    for ind, lamb in enumerate(lambdas):\n",
    "        weight, built_x_tr = ridge_reg_SGD(y_tr, x_tr, d, max_iters, gamma, lamb, batch_size)\n",
    "        weights.append(weight)\n",
    "        rmse_tr.append(np.sqrt(2*compute_mse(y_tr, built_x_tr, weight)))\n",
    "        rmse_te.append(np.sqrt(2*compute_mse(y_te, built_x_te, weight)))\n",
    "        rmse_te_dict[ind] = np.sqrt(2*compute_mse(y_te, built_x_te, weight))\n",
    "        print(\"index={ind}, proportion={p}, degree={d}, lambda={l:.5f}, Training RMSE={tr:.4f}, Testing RMSE={te:.4f}\".format(\n",
    "            ind=ind, p=split_ratio, d=d, l=lamb, tr=rmse_tr[ind], te=rmse_te[ind]))\n",
    "    plt.semilogx(lambdas, rmse_tr, color='b', marker='*', label=\"Train error\")\n",
    "    plt.semilogx(lambdas, list(rmse_te_dict.values()), color='r', marker='*', label=\"Test error\")\n",
    "    plt.xlabel(\"lambdas\")\n",
    "    plt.ylabel(\"RMSE\")\n",
    "    plt.title(\"Ridge regression for polynomial degree \" + str(d))\n",
    "    \n",
    "    min_err_index = min(rmse_te_dict, key=rmse_te_dict.get)\n",
    "    \n",
    "    return rmse_te_dict, lambdas[min_err_index], weights[min_err_index], built_x_te, y_te\n",
    "    \n",
    "rmses, best_lambda, weights, x_test, y_test = ridge_reg_SGD_demo(x, y, split_ratio, seed, d, max_iters, gamma)"
   ]
  },
  {
   "cell_type": "code",
   "execution_count": 494,
   "id": "b171ba87",
   "metadata": {},
   "outputs": [
    {
     "data": {
      "text/plain": [
       "0.2747190426701881"
      ]
     },
     "execution_count": 494,
     "metadata": {},
     "output_type": "execute_result"
    }
   ],
   "source": [
    "min(list(rmses.values()))"
   ]
  },
  {
   "cell_type": "code",
   "execution_count": 495,
   "id": "5142fae8",
   "metadata": {},
   "outputs": [
    {
     "data": {
      "text/plain": [
       "array([-0.15635875, -1.31785381,  0.08478499,  0.46841826])"
      ]
     },
     "execution_count": 495,
     "metadata": {},
     "output_type": "execute_result"
    }
   ],
   "source": [
    "weights"
   ]
  },
  {
   "cell_type": "code",
   "execution_count": 496,
   "id": "88097e13",
   "metadata": {},
   "outputs": [
    {
     "data": {
      "text/plain": [
       "0.2747190426701881"
      ]
     },
     "execution_count": 496,
     "metadata": {},
     "output_type": "execute_result"
    }
   ],
   "source": [
    "np.sqrt(1/len(y_test)*np.sum((x_test.dot(weights[:, None])-y_test[:, None])**2))"
   ]
  },
  {
   "cell_type": "markdown",
   "id": "58020557",
   "metadata": {},
   "source": [
    "### Sklearn"
   ]
  },
  {
   "cell_type": "code",
   "execution_count": 509,
   "id": "265d7f38",
   "metadata": {},
   "outputs": [
    {
     "name": "stdout",
     "output_type": "stream",
     "text": [
      " a and b by scikit-learn\n"
     ]
    },
    {
     "data": {
      "text/plain": [
       "array([[ 0.        ,  1.14969137, -4.87369005,  3.71278277]])"
      ]
     },
     "execution_count": 509,
     "metadata": {},
     "output_type": "execute_result"
    }
   ],
   "source": [
    "x, y = load_data()\n",
    "x_tr, x_te, y_tr, y_te = split_data(x, y, split_ratio, seed)\n",
    "built_x_tr = build_poly(x_tr, 3)\n",
    "built_x_te = build_poly(x_te, 3)\n",
    "\n",
    "from sklearn.linear_model import Ridge\n",
    "from sklearn.preprocessing import StandardScaler\n",
    "from sklearn.pipeline import Pipeline\n",
    "pipeline = Pipeline([('scaler', StandardScaler()), ('Ridge', Ridge(alpha=0.01))])\n",
    "#linr = pipe(alpha=best_lambda)\n",
    "pipeline.fit(built_x_tr, y_tr[:, None])\n",
    "print(' a and b by scikit-learn')\n",
    "#print(linr.intercept_, linr.coef_[0])\n",
    "pipeline.named_steps['Ridge'].coef_"
   ]
  },
  {
   "cell_type": "code",
   "execution_count": 510,
   "id": "256964c0",
   "metadata": {},
   "outputs": [
    {
     "data": {
      "text/plain": [
       "0.374809231962461"
      ]
     },
     "execution_count": 510,
     "metadata": {},
     "output_type": "execute_result"
    }
   ],
   "source": [
    "from sklearn.metrics import mean_squared_error\n",
    "y_pred = pipeline.predict(built_x_te)\n",
    "rms = mean_squared_error(y_te, y_pred, squared=False)\n",
    "rms"
   ]
  },
  {
   "cell_type": "code",
   "execution_count": 397,
   "id": "75d479df",
   "metadata": {},
   "outputs": [
    {
     "data": {
      "text/plain": [
       "(40, 4)"
      ]
     },
     "execution_count": 397,
     "metadata": {},
     "output_type": "execute_result"
    }
   ],
   "source": [
    "x_test.shape"
   ]
  },
  {
   "cell_type": "code",
   "execution_count": null,
   "id": "299cc0b8",
   "metadata": {},
   "outputs": [],
   "source": []
  }
 ],
 "metadata": {
  "kernelspec": {
   "display_name": "tor",
   "language": "python",
   "name": "tor"
  },
  "language_info": {
   "codemirror_mode": {
    "name": "ipython",
    "version": 3
   },
   "file_extension": ".py",
   "mimetype": "text/x-python",
   "name": "python",
   "nbconvert_exporter": "python",
   "pygments_lexer": "ipython3",
   "version": "3.9.7"
  }
 },
 "nbformat": 4,
 "nbformat_minor": 5
}
