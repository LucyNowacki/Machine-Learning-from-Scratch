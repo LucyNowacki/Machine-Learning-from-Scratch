{
 "cells": [
  {
   "cell_type": "markdown",
   "metadata": {},
   "source": [
    "### In this notebook I will implement simple, polynomial basis and ridge regressions analytically."
   ]
  },
  {
   "cell_type": "code",
   "execution_count": 25,
   "metadata": {},
   "outputs": [
    {
     "name": "stdout",
     "output_type": "stream",
     "text": [
      "The autoreload extension is already loaded. To reload it, use:\n",
      "  %reload_ext autoreload\n"
     ]
    }
   ],
   "source": [
    "# Useful starting lines\n",
    "%matplotlib inline\n",
    "import numpy as np\n",
    "import matplotlib.pyplot as plt\n",
    "%load_ext autoreload\n",
    "%autoreload 2\n",
    "\n",
    "#!pip install jupyterthemes\n",
    "from jupyterthemes import jtplot\n",
    "jtplot.style(theme=\"grade3\", context=\"notebook\", ticks=True, grid=True)"
   ]
  },
  {
   "cell_type": "markdown",
   "metadata": {},
   "source": [
    "Let's load and process data set"
   ]
  },
  {
   "cell_type": "code",
   "execution_count": 26,
   "metadata": {},
   "outputs": [],
   "source": [
    "#from helpers import *\n",
    "def load_data_from_ex02(sub_sample=True, add_outlier=False):\n",
    "    \"\"\"Load data and convert it to the metric system.\"\"\"\n",
    "    path_dataset = \"height_weight_genders.csv\"\n",
    "    data = np.genfromtxt(\n",
    "        path_dataset, delimiter=\",\", skip_header=1, usecols=[1, 2])\n",
    "    height = data[:, 0]\n",
    "    weight = data[:, 1]\n",
    "    gender = np.genfromtxt(\n",
    "        path_dataset, delimiter=\",\", skip_header=1, usecols=[0],\n",
    "        converters={0: lambda x: 0 if b\"Male\" in x else 1})\n",
    "    # Convert to metric system\n",
    "    height *= 0.025\n",
    "    weight *= 0.454\n",
    "\n",
    "    # sub-sample\n",
    "    if sub_sample:\n",
    "        height = height[::1000]\n",
    "        weight = weight[::1000]\n",
    "\n",
    "    if add_outlier:\n",
    "        # outlier experiment\n",
    "        height = np.concatenate([height, [1.1, 1.2]])\n",
    "        weight = np.concatenate([weight, [51.5/0.454, 55.3/0.454]])\n",
    "\n",
    "    return height, weight, gender\n",
    "\n",
    "\n",
    "def standardise(x):\n",
    "    \"\"\"Standardise the original data set.\"\"\"\n",
    "    mean_x = np.mean(x, axis=0)\n",
    "    x = x - mean_x\n",
    "    std_x = np.std(x, axis=0)\n",
    "    x = x / std_x\n",
    "    return x, mean_x, std_x\n",
    "\n",
    "\n",
    "def build_model_data(height, weight):\n",
    "    \"\"\"Form (y,tX) to get regression data in matrix form.\"\"\"\n",
    "    y = weight\n",
    "    x = height\n",
    "    num_samples = len(y)\n",
    "    tx = np.c_[np.ones(num_samples), x]\n",
    "    return y, tx"
   ]
  },
  {
   "cell_type": "markdown",
   "metadata": {},
   "source": [
    "## Least squares and linear basis functions models\n",
    "### 1.1 Simple Least squares\n",
    "The analitycal approach is  $\\,\\,\\omega^{*} = (X^{T}X)^{-1}X^{T}y$"
   ]
  },
  {
   "cell_type": "markdown",
   "metadata": {},
   "source": [
    "Alternatively, we find parameters via MSE minimisation\n",
    "\n",
    "Linear REgression Model:\n",
    "\\\n",
    "$f(x,w)=\\left\\langle \\hat{x},w\\right\\rangle =\\sum _{i=1}^n w_i x_i+w_0$ with $\\hat{x}_i=\\left(\n",
    "\\begin{array}{c}\n",
    " 1 \\\\\n",
    " x_i \\\\\n",
    "\\end{array}\n",
    "\\right)$\n",
    "\n",
    "$\\text{MSE}=\\frac{1}{2 n}\\sum _{i=1}^n \\left| f\\left(x_i,w\\right)-y_1\\right| {}^2=\\frac{\\sum _{i=1}^n \\left| \\left\\langle \\hat{x},w\\right\\rangle -y_i\\right| {}^2}{2 n}=\\frac{\\| \\text{Xw}-y\\| ^2}{2 n}$\n",
    "with\n",
    "$X=\\left(\n",
    "\\begin{array}{cc}\n",
    " 1 & x_1 \\\\\n",
    " 1 & x_2 \\\\\n",
    " \\vdots  & \\vdots  \\\\\n",
    " 1 & x_n \\\\\n",
    "\\end{array}\n",
    "\\right),\\,\\,\\,\\, y=\\left(\n",
    "\\begin{array}{c}\n",
    " y_1 \\\\\n",
    " y_2 \\\\\n",
    " \\vdots  \\\\\n",
    " y_n \\\\\n",
    "\\end{array}\n",
    "\\right)$"
   ]
  },
  {
   "cell_type": "code",
   "execution_count": 27,
   "metadata": {},
   "outputs": [],
   "source": [
    "def least_squares(y, tx):\n",
    "    \"\"\"calculate the least squares solution.\"\"\"\n",
    "    L = tx.T.dot(tx)\n",
    "    R = tx.T.dot(y)\n",
    "    return np.linalg.solve(L, R)"
   ]
  },
  {
   "cell_type": "markdown",
   "metadata": {},
   "source": [
    "#### Load the data\n",
    "Here we will reuse the dataset `height_weight_genders.csv` to check the correctness of implementation. "
   ]
  },
  {
   "cell_type": "code",
   "execution_count": 28,
   "metadata": {},
   "outputs": [
    {
     "name": "stdout",
     "output_type": "stream",
     "text": [
      "The obtained parameters are:\n"
     ]
    },
    {
     "data": {
      "text/plain": [
       "array([71.16676722, 18.33503822])"
      ]
     },
     "execution_count": 28,
     "metadata": {},
     "output_type": "execute_result"
    }
   ],
   "source": [
    "height, weight, gender = load_data_from_ex02(sub_sample=True, add_outlier=False)\n",
    "x, mean_x, std_x = standardise(height)\n",
    "y, tx = build_model_data(x, weight)\n",
    "\n",
    "print('The obtained parameters are:')\n",
    "least_squares(y, tx)"
   ]
  },
  {
   "cell_type": "markdown",
   "metadata": {},
   "source": [
    "### 1.2 Least squares with a linear basis function model\n",
    "\n",
    "Augment input with polynomial basis degree $d$, namely\n",
    "$\\Phi(x)_{j} \\omega_{j}\\,,\\,\\,\\,\\, \\Phi: \\mathbb{R} \\to \\mathbb{R}^{d+1}\\,\\,\\,\\, as \\,\\,\\,\\, \\Phi(x):=(1\\,\\, x\\,\\, x^{2}\\,\\,...x^{d})^{T}$\n",
    "\n",
    "The linear model is $f_{w}(x):=\\left< \\Phi(x), \\omega \\right>=\\sum_{j=0}^{n}\\,\\,,\\,\\,\\,\\omega\\in\\mathbb{R}^{d+1}$\n"
   ]
  },
  {
   "cell_type": "code",
   "execution_count": 29,
   "metadata": {
    "scrolled": true
   },
   "outputs": [
    {
     "name": "stdout",
     "output_type": "stream",
     "text": [
      "shape of x (50,)\n",
      "shape of y (50,)\n"
     ]
    }
   ],
   "source": [
    "# load dataset\n",
    "def load_data():\n",
    "    \"\"\"load data.\"\"\"\n",
    "    data = np.loadtxt(\"dataEx4.csv\", delimiter=\",\", skiprows=1, unpack=True)\n",
    "    x = data[0]\n",
    "    y = data[1]\n",
    "    return x, y\n",
    "\n",
    "x, y = load_data()\n",
    "print(\"shape of x {}\".format(x.shape))\n",
    "print(\"shape of y {}\".format(y.shape))"
   ]
  },
  {
   "cell_type": "code",
   "execution_count": 30,
   "metadata": {},
   "outputs": [],
   "source": [
    "def build_poly(x, degree):\n",
    "    \"\"\"polynomial basis functions for input data x, for j=0 up to j=degree.\"\"\"\n",
    "    poly = np.ones((len(x), 1))\n",
    "    for deg in range(1, degree+1):\n",
    "        poly = np.c_[poly, np.power(x, deg)]\n",
    "    return poly"
   ]
  },
  {
   "cell_type": "code",
   "execution_count": 31,
   "metadata": {},
   "outputs": [],
   "source": [
    "height, weight, gender = load_data_from_ex02(sub_sample=True, add_outlier=False)\n",
    "x, mean_x, std_x = standardise(height)\n",
    "#weight is here as e.g. your physical weight in kg's\n",
    "y = weight"
   ]
  },
  {
   "cell_type": "markdown",
   "metadata": {},
   "source": [
    "Let us play with polynomial regression. Note that we will use your implemented function `compute_mse`. "
   ]
  },
  {
   "cell_type": "code",
   "execution_count": 32,
   "metadata": {},
   "outputs": [],
   "source": [
    "def compute_mse(y, tx, w):\n",
    "    \"\"\"compute the loss by mse.\"\"\"\n",
    "    e = y - tx.dot(w)\n",
    "    mse = e.dot(e) / len(e)\n",
    "    return mse\n",
    "\n",
    "def least_squares(y, tx):\n",
    "    \"\"\"calculate the least squares solution.\"\"\"\n",
    "    L = tx.T.dot(tx)\n",
    "    R = tx.T.dot(y)\n",
    "    return np.linalg.solve(L, R)\n",
    "\n",
    "def plot_fitted_curve(y, x, weights, degree, ax):\n",
    "    \"\"\"plot the fitted curve.\"\"\"\n",
    "    ax.scatter(x, y,  s=30, facecolors='g', edgecolors='r', linewidth=1.4)\n",
    "    xvals = np.arange(min(x) - 0.1, max(x) + 0.1, 0.1)\n",
    "    tx = build_poly(xvals, degree)\n",
    "    fvals = tx.dot(weights)\n",
    "    ax.plot(xvals, fvals)\n",
    "    ax.set_xlabel(\"x\")\n",
    "    ax.set_ylabel(\"y\")\n",
    "    ax.set_title(\"Polynomial degree \" + str(degree))\n",
    "\n",
    "def polynomial_regression(degrees = [0, 1, 2, 3,7, 12]):\n",
    "    \"\"\"Constructing the polynomial basis function expansion of the data,\n",
    "       and then running least squares regression.\"\"\"\n",
    "    # define the structure of the figure\n",
    "    num_row = 2\n",
    "    num_col = int(np.floor(len(degrees)/2))\n",
    "    f, axs = plt.subplots(num_row, num_col)\n",
    "\n",
    "    for idx, degree in enumerate(degrees):\n",
    "        tx = build_poly(x, degree)\n",
    "        weights = least_squares(y, tx)\n",
    "        rmse = np.sqrt(compute_mse(y, tx, weights))\n",
    "        print(\"Processing {i}th experiment, degree={d}, rmse={loss}\".format(\n",
    "              i=idx + 1, d=degree, loss=rmse))\n",
    "        # plot fit\n",
    "        plot_fitted_curve(y, x, weights, degree, axs[idx // num_col][idx % num_col])\n",
    "        #print(axs[idx // num_col][idx % num_col])\n",
    "    plt.tight_layout()\n",
    "    #plt.savefig(\"visualisse_polynomial_regression\")\n",
    "    plt.show()"
   ]
  },
  {
   "cell_type": "markdown",
   "metadata": {},
   "source": [
    "Run polynomial regression"
   ]
  },
  {
   "cell_type": "code",
   "execution_count": 33,
   "metadata": {},
   "outputs": [
    {
     "name": "stdout",
     "output_type": "stream",
     "text": [
      "Processing 1th experiment, degree=0, rmse=18.81777483140398\n",
      "Processing 2th experiment, degree=2, rmse=3.5054191229676337\n",
      "Processing 3th experiment, degree=3, rmse=3.498755784697597\n",
      "Processing 4th experiment, degree=4, rmse=3.486540302266364\n",
      "Processing 5th experiment, degree=8, rmse=1.312907110661173\n",
      "Processing 6th experiment, degree=20, rmse=6.266810793725346e-08\n"
     ]
    },
    {
     "data": {
      "image/png": "[encoded data removed]",
      "text/plain": [
       "<Figure size 576x504 with 6 Axes>"
      ]
     },
     "metadata": {},
     "output_type": "display_data"
    }
   ],
   "source": [
    "polynomial_regression([0,2,3,4,8,20])"
   ]
  },
  {
   "cell_type": "markdown",
   "metadata": {},
   "source": [
    "### Ridge Regression\n",
    "Please fill in the function below.\n",
    "The analitycal approach is  $\\,\\,\\omega^{*} = (X^{T}X+\\lambda R(\\omega))^{-1}X^{T}y$\n",
    "\\\n",
    "Replacing $R(\\omega)$ by scalar and identity for a linear case\n",
    "\\\n",
    "$$\\,\\,\\omega^{*} = (X^{T}X+\\lambda \\mathbb{I}_{[d+1]})^{-1}X^{T}y$$\n",
    "\n",
    "Note  $\\hat{w}=\\arg  \\underset{w}{\\min } \\{||Xw-y||^2 + \\frac{\\lambda}{2}||w||^2 \\}$ is an equivalen to the above equation. To see it, it is enough to compute the gradient of $E(w)=\\frac{1}{2} \\| Xw-y\\| ^2+\\frac{\\lambda }{2}\\left\\| w\\| ^2\\right.$, set it to zero and observe that they coincide.\n",
    "The last term in the eqn keeps the weights bounded."
   ]
  },
  {
   "cell_type": "markdown",
   "metadata": {},
   "source": []
  },
  {
   "cell_type": "code",
   "execution_count": 85,
   "metadata": {},
   "outputs": [
    {
     "name": "stdout",
     "output_type": "stream",
     "text": [
      "shape of x (50,)\n",
      "shape of y (50,)\n"
     ]
    }
   ],
   "source": [
    "def load_data():\n",
    "    \"\"\"load data.\"\"\"\n",
    "    data = np.loadtxt(\"dataEx4.csv\", delimiter=\",\", skiprows=1, unpack=True)\n",
    "    x = data[0]\n",
    "    y = data[1]\n",
    "    return x, y\n",
    "\n",
    "x, y = load_data()\n",
    "print(\"shape of x {}\".format(x.shape))\n",
    "print(\"shape of y {}\".format(y.shape))"
   ]
  },
  {
   "cell_type": "code",
   "execution_count": 86,
   "metadata": {},
   "outputs": [],
   "source": [
    "def split_data(x, y, ratio, myseed=1):\n",
    "    \"\"\"split the dataset based on the split ratio.\"\"\"\n",
    "    # set seed\n",
    "    np.random.seed(myseed)\n",
    "    # generate random indices\n",
    "    num_row = len(y)\n",
    "    indices = np.random.permutation(num_row)\n",
    "    index_split = int(np.floor(ratio * num_row))\n",
    "    index_tr = indices[: index_split]\n",
    "    index_te = indices[index_split:]\n",
    "    # create split\n",
    "    x_tr = x[index_tr]\n",
    "    x_te = x[index_te]\n",
    "    y_tr = y[index_tr]\n",
    "    y_te = y[index_te]\n",
    "    return x_tr, x_te, y_tr, y_te\n"
   ]
  },
  {
   "cell_type": "code",
   "execution_count": 87,
   "metadata": {},
   "outputs": [],
   "source": [
    "def build_poly(x, degree):\n",
    "    \"\"\"polynomial basis functions for input data x, for j=0 up to j=degree.\"\"\"\n",
    "    poly = np.ones((len(x), 1))\n",
    "    for deg in range(1, degree+1):\n",
    "        poly = np.c_[poly, np.power(x, deg)]\n",
    "    return poly"
   ]
  },
  {
   "cell_type": "code",
   "execution_count": 88,
   "metadata": {},
   "outputs": [],
   "source": [
    "def ridge_regression(y, tx, lamb):\n",
    "    \"\"\"implement ridge regression.\"\"\"\n",
    "    aI = 2 * tx.shape[0] * lamb * np.identity(tx.shape[1])\n",
    "    L = tx.T.dot(tx) + aI\n",
    "    R = tx.T.dot(y)\n",
    "    return np.linalg.solve(L, R)\n",
    "    \n",
    "def compute_mse(y, tx, w):\n",
    "    \"\"\"compute the loss by mse.\"\"\"\n",
    "    e = tx.dot(w) - y\n",
    "    mse = e.dot(e) / (2 * len(e))\n",
    "    return mse"
   ]
  },
  {
   "cell_type": "code",
   "execution_count": 89,
   "metadata": {},
   "outputs": [],
   "source": [
    "def compute_gradient(y, tx, w):\n",
    "    \"\"\"Compute the gradient.\"\"\"\n",
    "    err = y - tx @ w\n",
    "    grad = -tx.T.dot(err) / len(err)\n",
    "    return grad, err\n",
    "\n"
   ]
  },
  {
   "cell_type": "code",
   "execution_count": 90,
   "metadata": {},
   "outputs": [],
   "source": [
    "def ridge_regression_demo(x, y, degree, ratio, seed):\n",
    "    \"\"\"ridge regression demo.\"\"\"\n",
    "    # define parameter\n",
    "    lambdas = np.logspace(-5, 0, 15)\n",
    "    # split the data, and return train and test data: TODO\n",
    "    x_tr, x_te, y_tr, y_te = split_data(x, y, ratio, seed)\n",
    "    # form train and test data with polynomial basis function: TODO\n",
    "    tx_tr = build_poly(x_tr, degree)\n",
    "    tx_te = build_poly(x_te, degree)\n",
    "    # ridge regression with different lambda\n",
    "    rmse_tr = []\n",
    "    rmse_te = []\n",
    "    for ind, lamb in enumerate(lambdas):\n",
    "        weight = ridge_regression(y_tr, tx_tr, lamb)\n",
    "        rmse_tr.append(np.sqrt(2*compute_mse(y_tr, tx_tr, weight)))\n",
    "        rmse_te.append(np.sqrt(2*compute_mse(y_te, tx_te, weight)))\n",
    "                    \n",
    "        print(\"proportion={p}, degree={d}, lambda={l:.5f}, Training RMSE={tr:.4f}, Testing RMSE={te:.4f}\".format\\\n",
    "              (p=ratio, d=degree, l=lamb, tr=rmse_tr[ind], te=rmse_te[ind]))\n",
    "        \n",
    "    # Plot the obtained results\n",
    "    #,  s=30, facecolors='g', edgecolors='r', linewidth=1.4\n",
    "    plt.semilogx(lambdas, rmse_tr, marker='o',ms=8, mfc='r',  linewidth=2.4, label=\"Train error\")\n",
    "    plt.semilogx(lambdas, rmse_te, color='r', marker='o',ms=8, mfc='g',  linewidth=2.4, label=\"Test error\")\n",
    "    plt.xlabel(\"lambdas\")\n",
    "    plt.ylabel(\"RMSE\")\n",
    "    plt.title(\"Ridge regression for polynomial degree \" + str(degree))\n",
    "    leg = plt.legend(loc=1, shadow=True)\n",
    "#     leg.draw_frame(True)\n",
    "#     plt.savefig(\"ridge_regression\")"
   ]
  },
  {
   "cell_type": "markdown",
   "metadata": {},
   "source": [
    "From plot below we can choose the optimal hyperparameter $\\lambda$"
   ]
  },
  {
   "cell_type": "code",
   "execution_count": 91,
   "metadata": {},
   "outputs": [
    {
     "name": "stdout",
     "output_type": "stream",
     "text": [
      "proportion=0.5, degree=2, lambda=0.00001, Training RMSE=0.3981, Testing RMSE=0.6704\n",
      "proportion=0.5, degree=2, lambda=0.00002, Training RMSE=0.3981, Testing RMSE=0.6699\n",
      "proportion=0.5, degree=2, lambda=0.00005, Training RMSE=0.3981, Testing RMSE=0.6689\n",
      "proportion=0.5, degree=2, lambda=0.00012, Training RMSE=0.3981, Testing RMSE=0.6665\n",
      "proportion=0.5, degree=2, lambda=0.00027, Training RMSE=0.3981, Testing RMSE=0.6613\n",
      "proportion=0.5, degree=2, lambda=0.00061, Training RMSE=0.3983, Testing RMSE=0.6499\n",
      "proportion=0.5, degree=2, lambda=0.00139, Training RMSE=0.3993, Testing RMSE=0.6266\n",
      "proportion=0.5, degree=2, lambda=0.00316, Training RMSE=0.4031, Testing RMSE=0.5852\n",
      "proportion=0.5, degree=2, lambda=0.00720, Training RMSE=0.4152, Testing RMSE=0.5303\n",
      "proportion=0.5, degree=2, lambda=0.01638, Training RMSE=0.4407, Testing RMSE=0.4934\n",
      "proportion=0.5, degree=2, lambda=0.03728, Training RMSE=0.4737, Testing RMSE=0.5025\n",
      "proportion=0.5, degree=2, lambda=0.08483, Training RMSE=0.5015, Testing RMSE=0.5360\n",
      "proportion=0.5, degree=2, lambda=0.19307, Training RMSE=0.5192, Testing RMSE=0.5671\n",
      "proportion=0.5, degree=2, lambda=0.43940, Training RMSE=0.5297, Testing RMSE=0.5908\n",
      "proportion=0.5, degree=2, lambda=1.00000, Training RMSE=0.5371, Testing RMSE=0.6090\n"
     ]
    },
    {
     "data": {
      "image/png": "[encoded data removed]",
      "text/plain": [
       "<Figure size 576x504 with 1 Axes>"
      ]
     },
     "metadata": {},
     "output_type": "display_data"
    }
   ],
   "source": [
    "seed = 56\n",
    "degree = 2\n",
    "split_ratio = 0.5\n",
    "ridge_regression_demo(x, y, degree, split_ratio, seed)"
   ]
  },
  {
   "cell_type": "code",
   "execution_count": null,
   "metadata": {},
   "outputs": [],
   "source": []
  }
 ],
 "metadata": {
  "anaconda-cloud": {},
  "kernelspec": {
   "display_name": "tor",
   "language": "python",
   "name": "tor"
  },
  "language_info": {
   "codemirror_mode": {
    "name": "ipython",
    "version": 3
   },
   "file_extension": ".py",
   "mimetype": "text/x-python",
   "name": "python",
   "nbconvert_exporter": "python",
   "pygments_lexer": "ipython3",
   "version": "3.9.7"
  }
 },
 "nbformat": 4,
 "nbformat_minor": 4
}
